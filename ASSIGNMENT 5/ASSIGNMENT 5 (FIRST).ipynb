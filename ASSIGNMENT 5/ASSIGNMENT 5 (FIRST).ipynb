{
 "cells": [
  {
   "cell_type": "code",
   "execution_count": 32,
   "id": "a7086749",
   "metadata": {},
   "outputs": [],
   "source": [
    "import pandas as pd\n",
    "import numpy as np\n",
    "from sklearn.preprocessing import LabelEncoder, StandardScaler, OneHotEncoder\n",
    "from scipy.stats import skew"
   ]
  },
  {
   "cell_type": "code",
   "execution_count": 33,
   "id": "5c8da3a4",
   "metadata": {},
   "outputs": [],
   "source": [
    "train = pd.read_csv('train.csv')\n",
    "test = pd.read_csv('test.csv')\n",
    "train = train[train['GrLivArea'] < 4000].reset_index(drop=True)"
   ]
  },
  {
   "cell_type": "code",
   "execution_count": 34,
   "id": "b8141b90",
   "metadata": {},
   "outputs": [],
   "source": [
    "y_train = train['SalePrice']\n",
    "train_features = train.drop('SalePrice', axis=1)\n",
    "all_data = pd.concat([train_features, test], axis=0, ignore_index=True)"
   ]
  },
  {
   "cell_type": "code",
   "execution_count": 35,
   "id": "f536691e",
   "metadata": {},
   "outputs": [],
   "source": [
    "for col in all_data.columns:\n",
    "    if all_data[col].dtype == \"object\":\n",
    "        all_data[col] = all_data[col].fillna(\"None\")\n",
    "    else:\n",
    "        all_data[col] = all_data[col].fillna(all_data[col].median())"
   ]
  },
  {
   "cell_type": "code",
   "execution_count": 36,
   "id": "bf7a8f5d",
   "metadata": {},
   "outputs": [],
   "source": [
    "numeric_feats = all_data.select_dtypes(include=[np.number]).columns\n",
    "skewed_feats = all_data[numeric_feats].apply(lambda x: skew(x.dropna())).sort_values(ascending=False)\n",
    "skewness = skewed_feats[abs(skewed_feats) > 0.75]\n",
    "for feat in skewness.index:\n",
    "    all_data[feat] = np.log1p(all_data[feat])"
   ]
  },
  {
   "cell_type": "code",
   "execution_count": 37,
   "id": "a954a186",
   "metadata": {},
   "outputs": [],
   "source": [
    "for col in all_data.select_dtypes(include='object').columns:\n",
    "    if all_data[col].nunique() <= 10:\n",
    "        le = LabelEncoder()\n",
    "        all_data[col] = le.fit_transform(all_data[col])\n",
    "    else:\n",
    "        dummies = pd.get_dummies(all_data[col], prefix=col)\n",
    "        all_data = pd.concat([all_data.drop(col, axis=1), dummies], axis=1)"
   ]
  },
  {
   "cell_type": "code",
   "execution_count": 38,
   "id": "1c1ac048",
   "metadata": {},
   "outputs": [],
   "source": [
    "all_data['TotalSF'] = (\n",
    "    all_data.get('TotalBsmtSF', 0) +\n",
    "    all_data.get('1stFlrSF', 0) +\n",
    "    all_data.get('2ndFlrSF', 0)\n",
    ")"
   ]
  },
  {
   "cell_type": "code",
   "execution_count": 39,
   "id": "74962215",
   "metadata": {},
   "outputs": [],
   "source": [
    "scaler = StandardScaler()\n",
    "all_data_scaled = pd.DataFrame(scaler.fit_transform(all_data), columns=all_data.columns)"
   ]
  },
  {
   "cell_type": "code",
   "execution_count": 40,
   "id": "412eb1f3",
   "metadata": {},
   "outputs": [],
   "source": [
    "X_train = all_data_scaled.iloc[:train.shape[0], :]\n",
    "X_test = all_data_scaled.iloc[train.shape[0]:, :]"
   ]
  },
  {
   "cell_type": "code",
   "execution_count": 30,
   "id": "de913c94",
   "metadata": {},
   "outputs": [],
   "source": [
    "X_train.to_csv('X_train_preprocessed.csv', index=False)\n",
    "X_test.to_csv('X_test_preprocessed.csv', index=False)\n",
    "y_train.to_csv('y_train.csv', index=False)"
   ]
  },
  {
   "cell_type": "code",
   "execution_count": 31,
   "id": "9cb809e4",
   "metadata": {},
   "outputs": [
    {
     "name": "stdout",
     "output_type": "stream",
     "text": [
      "Preprocessing complete. Shapes: (1456, 136) (1459, 136)\n"
     ]
    }
   ],
   "source": [
    "print(\"Preprocessing complete. Shapes:\", X_train.shape, X_test.shape)"
   ]
  }
 ],
 "metadata": {
  "kernelspec": {
   "display_name": ".venv",
   "language": "python",
   "name": "python3"
  },
  "language_info": {
   "codemirror_mode": {
    "name": "ipython",
    "version": 3
   },
   "file_extension": ".py",
   "mimetype": "text/x-python",
   "name": "python",
   "nbconvert_exporter": "python",
   "pygments_lexer": "ipython3",
   "version": "3.10.0"
  }
 },
 "nbformat": 4,
 "nbformat_minor": 5
}
