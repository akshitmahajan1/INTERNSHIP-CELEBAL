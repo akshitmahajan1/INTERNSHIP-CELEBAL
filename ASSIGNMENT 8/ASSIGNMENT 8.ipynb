{
 "cells": [
  {
   "cell_type": "code",
   "execution_count": 2,
   "id": "ef8a70d4",
   "metadata": {},
   "outputs": [
    {
     "name": "stderr",
     "output_type": "stream",
     "text": [
      "c:\\Users\\Dell\\OneDrive\\Desktop\\ASSIGNMENT 8\\.venv\\lib\\site-packages\\tqdm\\auto.py:21: TqdmWarning: IProgress not found. Please update jupyter and ipywidgets. See https://ipywidgets.readthedocs.io/en/stable/user_install.html\n",
      "  from .autonotebook import tqdm as notebook_tqdm\n"
     ]
    }
   ],
   "source": [
    "import pandas as pd\n",
    "import numpy as np\n",
    "import faiss\n",
    "import pickle\n",
    "from sentence_transformers import SentenceTransformer\n",
    "from transformers import AutoTokenizer, AutoModelForSeq2SeqLM\n",
    "import torch"
   ]
  },
  {
   "cell_type": "code",
   "execution_count": 3,
   "id": "81b1591a",
   "metadata": {},
   "outputs": [],
   "source": [
    "df = pd.read_csv(\"Training Dataset.csv\")"
   ]
  },
  {
   "cell_type": "code",
   "execution_count": 4,
   "id": "b3092e02",
   "metadata": {},
   "outputs": [
    {
     "name": "stdout",
     "output_type": "stream",
     "text": [
      "✅ Loaded 480 valid rows.\n"
     ]
    }
   ],
   "source": [
    "df = df.dropna().reset_index(drop=True)\n",
    "print(f\"✅ Loaded {len(df)} valid rows.\")"
   ]
  },
  {
   "cell_type": "code",
   "execution_count": 5,
   "id": "112a3145",
   "metadata": {},
   "outputs": [],
   "source": [
    "def row_to_text(row):\n",
    "    return (\n",
    "        f\"Applicant has a credit history of {row['Credit_History']}, \"\n",
    "        f\"income of {row['ApplicantIncome']}, loan amount {row['LoanAmount']}, \"\n",
    "        f\"education level is {row['Education']}, and loan status is {row['Loan_Status']}.\"\n",
    "    )\n",
    "\n",
    "texts = [row_to_text(row) for _, row in df.iterrows()]"
   ]
  },
  {
   "cell_type": "code",
   "execution_count": 6,
   "id": "6e0e3736",
   "metadata": {},
   "outputs": [],
   "source": [
    "embed_model = SentenceTransformer(\"all-MiniLM-L6-v2\")\n",
    "embeddings = embed_model.encode(texts)\n",
    "\n",
    "index = faiss.IndexFlatL2(embeddings.shape[1])\n",
    "index.add(np.array(embeddings))"
   ]
  },
  {
   "cell_type": "code",
   "execution_count": 7,
   "id": "4e8ba4df",
   "metadata": {},
   "outputs": [
    {
     "name": "stdout",
     "output_type": "stream",
     "text": [
      "✅ FAISS index built with SentenceTransformer embeddings.\n"
     ]
    }
   ],
   "source": [
    "with open(\"texts.pkl\", \"wb\") as f:\n",
    "    pickle.dump(texts, f)\n",
    "faiss.write_index(index, \"faiss.index\")\n",
    "\n",
    "print(\"✅ FAISS index built with SentenceTransformer embeddings.\")"
   ]
  },
  {
   "cell_type": "code",
   "execution_count": 8,
   "id": "cbb6b79e",
   "metadata": {},
   "outputs": [
    {
     "name": "stderr",
     "output_type": "stream",
     "text": [
      "c:\\Users\\Dell\\OneDrive\\Desktop\\ASSIGNMENT 8\\.venv\\lib\\site-packages\\huggingface_hub\\file_download.py:143: UserWarning: `huggingface_hub` cache-system uses symlinks by default to efficiently store duplicated files but your machine does not support them in C:\\Users\\Dell\\.cache\\huggingface\\hub\\models--google--flan-t5-small. Caching files will still work but in a degraded version that might require more space on your disk. This warning can be disabled by setting the `HF_HUB_DISABLE_SYMLINKS_WARNING` environment variable. For more details, see https://huggingface.co/docs/huggingface_hub/how-to-cache#limitations.\n",
      "To support symlinks on Windows, you either need to activate Developer Mode or to run Python as an administrator. In order to activate developer mode, see this article: https://docs.microsoft.com/en-us/windows/apps/get-started/enable-your-device-for-development\n",
      "  warnings.warn(message)\n",
      "Xet Storage is enabled for this repo, but the 'hf_xet' package is not installed. Falling back to regular HTTP download. For better performance, install the package with: `pip install huggingface_hub[hf_xet]` or `pip install hf_xet`\n",
      "Xet Storage is enabled for this repo, but the 'hf_xet' package is not installed. Falling back to regular HTTP download. For better performance, install the package with: `pip install huggingface_hub[hf_xet]` or `pip install hf_xet`\n"
     ]
    }
   ],
   "source": [
    "device = \"cuda\" if torch.cuda.is_available() else \"cpu\"\n",
    "gen_model = AutoModelForSeq2SeqLM.from_pretrained(\"google/flan-t5-small\").to(device)\n",
    "tokenizer = AutoTokenizer.from_pretrained(\"google/flan-t5-small\")"
   ]
  },
  {
   "cell_type": "code",
   "execution_count": 9,
   "id": "bb23f17c",
   "metadata": {},
   "outputs": [],
   "source": [
    "def answer_query(query, top_k=5):\n",
    "    # Embed the query\n",
    "    query_vec = embed_model.encode([query])\n",
    "    distances, indices = index.search(np.array(query_vec), top_k)\n",
    "\n",
    "    # Retrieve top-k relevant context rows\n",
    "    context = \"\\n\".join([texts[i] for i in indices[0]])\n",
    "\n",
    "    # Prepare prompt\n",
    "    prompt = f\"Context:\\n{context}\\n\\nQuestion: {query}\\nAnswer:\"\n",
    "\n",
    "    # Tokenize and generate\n",
    "    inputs = tokenizer(prompt, return_tensors=\"pt\", truncation=True, max_length=512).to(device)\n",
    "    outputs = gen_model.generate(**inputs, max_new_tokens=100)\n",
    "    answer = tokenizer.decode(outputs[0], skip_special_tokens=True)\n",
    "\n",
    "    return answer"
   ]
  },
  {
   "cell_type": "code",
   "execution_count": 10,
   "id": "5654b4ca",
   "metadata": {},
   "outputs": [
    {
     "name": "stdout",
     "output_type": "stream",
     "text": [
      "Ask your Loan Approval-related questions below:\n"
     ]
    }
   ],
   "source": [
    "print(\"Ask your Loan Approval-related questions below:\")\n",
    "sample_questions = [\n",
    "    \"What factors lead to loan rejection?\",\n",
    "    \"Does high income always mean loan approval?\",\n",
    "    \"What happens if credit history is 0?\",\n",
    "    \"Is graduate education preferred for loans?\"\n",
    "]"
   ]
  },
  {
   "cell_type": "code",
   "execution_count": 11,
   "id": "2c57ea46",
   "metadata": {},
   "outputs": [
    {
     "name": "stdout",
     "output_type": "stream",
     "text": [
      "\n",
      "❓ What factors lead to loan rejection?\n",
      "💬 education level is Not Graduate, and loan status is N\n",
      "\n",
      "❓ Does high income always mean loan approval?\n",
      "💬 high income always mean loan approval\n",
      "\n",
      "❓ What happens if credit history is 0?\n",
      "💬 No education level is Not Graduate\n",
      "\n",
      "❓ Is graduate education preferred for loans?\n",
      "💬 Not Graduate\n"
     ]
    }
   ],
   "source": [
    "for q in sample_questions:\n",
    "    print(f\"\\n❓ {q}\")\n",
    "    print(\"💬\", answer_query(q))"
   ]
  }
 ],
 "metadata": {
  "kernelspec": {
   "display_name": ".venv",
   "language": "python",
   "name": "python3"
  },
  "language_info": {
   "codemirror_mode": {
    "name": "ipython",
    "version": 3
   },
   "file_extension": ".py",
   "mimetype": "text/x-python",
   "name": "python",
   "nbconvert_exporter": "python",
   "pygments_lexer": "ipython3",
   "version": "3.10.0"
  }
 },
 "nbformat": 4,
 "nbformat_minor": 5
}
