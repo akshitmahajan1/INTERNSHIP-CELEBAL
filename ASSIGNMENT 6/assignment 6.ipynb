{
 "cells": [
  {
   "cell_type": "code",
   "execution_count": 1,
   "id": "dddaee1d",
   "metadata": {},
   "outputs": [],
   "source": [
    "import pandas as pd\n",
    "import numpy as np\n",
    "from sklearn.model_selection import train_test_split, GridSearchCV, RandomizedSearchCV\n",
    "from sklearn.preprocessing import StandardScaler, OneHotEncoder\n",
    "from sklearn.impute import SimpleImputer\n",
    "from sklearn.compose import ColumnTransformer\n",
    "from sklearn.pipeline import Pipeline\n",
    "from sklearn.metrics import accuracy_score, precision_score, recall_score, f1_score, classification_report\n",
    "\n",
    "from sklearn.linear_model import LogisticRegression\n",
    "from sklearn.ensemble import RandomForestClassifier, GradientBoostingClassifier, BaggingClassifier, StackingClassifier\n",
    "from sklearn.svm import SVC\n",
    "from sklearn.tree import DecisionTreeClassifier\n",
    "\n",
    "from sklearn.cluster import KMeans, DBSCAN, AgglomerativeClustering\n",
    "from sklearn.mixture import GaussianMixture\n",
    "from scipy.cluster.hierarchy import dendrogram, linkage\n",
    "import matplotlib.pyplot as plt"
   ]
  },
  {
   "cell_type": "code",
   "execution_count": 2,
   "id": "d4d2ec90",
   "metadata": {},
   "outputs": [],
   "source": [
    "df = pd.read_csv(\"Titanic-Dataset.csv\")"
   ]
  },
  {
   "cell_type": "code",
   "execution_count": 3,
   "id": "20d7a8c6",
   "metadata": {},
   "outputs": [],
   "source": [
    "df = df.drop(columns=[\"PassengerId\", \"Name\", \"Ticket\", \"Cabin\"])"
   ]
  },
  {
   "cell_type": "code",
   "execution_count": 4,
   "id": "feacebf5",
   "metadata": {},
   "outputs": [],
   "source": [
    "X = df.drop(\"Survived\", axis=1)\n",
    "y = df[\"Survived\"]"
   ]
  },
  {
   "cell_type": "code",
   "execution_count": 5,
   "id": "7dee40f6",
   "metadata": {},
   "outputs": [],
   "source": [
    "num_cols = X.select_dtypes(include=[\"int64\", \"float64\"]).columns.tolist()\n",
    "cat_cols = X.select_dtypes(include=[\"object\"]).columns.tolist()"
   ]
  },
  {
   "cell_type": "code",
   "execution_count": 6,
   "id": "e71367d4",
   "metadata": {},
   "outputs": [],
   "source": [
    "num_pipeline = Pipeline([\n",
    "    (\"imputer\", SimpleImputer(strategy=\"median\")),\n",
    "    (\"scaler\", StandardScaler())\n",
    "])\n",
    "\n",
    "cat_pipeline = Pipeline([\n",
    "    (\"imputer\", SimpleImputer(strategy=\"most_frequent\")),\n",
    "    (\"encoder\", OneHotEncoder(handle_unknown=\"ignore\"))\n",
    "])\n",
    "\n",
    "preprocessor = ColumnTransformer([\n",
    "    (\"num\", num_pipeline, num_cols),\n",
    "    (\"cat\", cat_pipeline, cat_cols)\n",
    "])"
   ]
  },
  {
   "cell_type": "code",
   "execution_count": 7,
   "id": "ffaf1cd0",
   "metadata": {},
   "outputs": [],
   "source": [
    "X_train, X_test, y_train, y_test = train_test_split(X, y, test_size=0.2, random_state=42)"
   ]
  },
  {
   "cell_type": "code",
   "execution_count": 8,
   "id": "1859746c",
   "metadata": {},
   "outputs": [],
   "source": [
    "models = {\n",
    "    \"Logistic_L1\": LogisticRegression(penalty=\"l1\", solver=\"liblinear\"),\n",
    "    \"Logistic_L2\": LogisticRegression(penalty=\"l2\", solver=\"liblinear\"),\n",
    "    \"ElasticNet\": LogisticRegression(penalty=\"elasticnet\", solver=\"saga\", l1_ratio=0.5, max_iter=5000),\n",
    "    \"RandomForest\": RandomForestClassifier(),\n",
    "    \"GradientBoosting\": GradientBoostingClassifier(),\n",
    "    \"Bagging\": BaggingClassifier(),\n",
    "    \"SVM\": SVC(probability=True),\n",
    "    \"DecisionTree\": DecisionTreeClassifier()\n",
    "}"
   ]
  },
  {
   "cell_type": "code",
   "execution_count": 9,
   "id": "4989b059",
   "metadata": {},
   "outputs": [
    {
     "name": "stdout",
     "output_type": "stream",
     "text": [
      "Classification Results:\n",
      "\n",
      "Logistic_L1\n",
      "              precision    recall  f1-score   support\n",
      "\n",
      "           0       0.82      0.86      0.84       105\n",
      "           1       0.78      0.73      0.76        74\n",
      "\n",
      "    accuracy                           0.80       179\n",
      "   macro avg       0.80      0.79      0.80       179\n",
      "weighted avg       0.80      0.80      0.80       179\n",
      "\n",
      "\n",
      "Logistic_L2\n",
      "              precision    recall  f1-score   support\n",
      "\n",
      "           0       0.83      0.86      0.84       105\n",
      "           1       0.79      0.74      0.76        74\n",
      "\n",
      "    accuracy                           0.81       179\n",
      "   macro avg       0.81      0.80      0.80       179\n",
      "weighted avg       0.81      0.81      0.81       179\n",
      "\n",
      "\n",
      "ElasticNet\n",
      "              precision    recall  f1-score   support\n",
      "\n",
      "           0       0.83      0.86      0.84       105\n",
      "           1       0.79      0.74      0.76        74\n",
      "\n",
      "    accuracy                           0.81       179\n",
      "   macro avg       0.81      0.80      0.80       179\n",
      "weighted avg       0.81      0.81      0.81       179\n",
      "\n",
      "\n",
      "RandomForest\n",
      "              precision    recall  f1-score   support\n",
      "\n",
      "           0       0.83      0.86      0.85       105\n",
      "           1       0.79      0.76      0.77        74\n",
      "\n",
      "    accuracy                           0.82       179\n",
      "   macro avg       0.81      0.81      0.81       179\n",
      "weighted avg       0.81      0.82      0.82       179\n",
      "\n",
      "\n",
      "GradientBoosting\n",
      "              precision    recall  f1-score   support\n",
      "\n",
      "           0       0.82      0.90      0.85       105\n",
      "           1       0.83      0.72      0.77        74\n",
      "\n",
      "    accuracy                           0.82       179\n",
      "   macro avg       0.82      0.81      0.81       179\n",
      "weighted avg       0.82      0.82      0.82       179\n",
      "\n",
      "\n",
      "Bagging\n",
      "              precision    recall  f1-score   support\n",
      "\n",
      "           0       0.78      0.87      0.82       105\n",
      "           1       0.77      0.65      0.71        74\n",
      "\n",
      "    accuracy                           0.78       179\n",
      "   macro avg       0.78      0.76      0.76       179\n",
      "weighted avg       0.78      0.78      0.77       179\n",
      "\n",
      "\n",
      "SVM\n",
      "              precision    recall  f1-score   support\n",
      "\n",
      "           0       0.82      0.88      0.85       105\n",
      "           1       0.81      0.73      0.77        74\n",
      "\n",
      "    accuracy                           0.82       179\n",
      "   macro avg       0.81      0.80      0.81       179\n",
      "weighted avg       0.82      0.82      0.81       179\n",
      "\n",
      "\n",
      "DecisionTree\n",
      "              precision    recall  f1-score   support\n",
      "\n",
      "           0       0.82      0.80      0.81       105\n",
      "           1       0.72      0.74      0.73        74\n",
      "\n",
      "    accuracy                           0.78       179\n",
      "   macro avg       0.77      0.77      0.77       179\n",
      "weighted avg       0.78      0.78      0.78       179\n",
      "\n"
     ]
    }
   ],
   "source": [
    "print(\"Classification Results:\")\n",
    "for name, model in models.items():\n",
    "    pipe = Pipeline([(\"pre\", preprocessor), (\"clf\", model)])\n",
    "    pipe.fit(X_train, y_train)\n",
    "    y_pred = pipe.predict(X_test)\n",
    "    print(f\"\\n{name}\")\n",
    "    print(classification_report(y_test, y_pred))"
   ]
  },
  {
   "cell_type": "code",
   "execution_count": 10,
   "id": "553acc58",
   "metadata": {},
   "outputs": [
    {
     "name": "stdout",
     "output_type": "stream",
     "text": [
      "\n",
      "Best RandomForest Params: {'clf__max_depth': 5, 'clf__n_estimators': 100}\n",
      "              precision    recall  f1-score   support\n",
      "\n",
      "           0       0.81      0.89      0.85       105\n",
      "           1       0.81      0.70      0.75        74\n",
      "\n",
      "    accuracy                           0.81       179\n",
      "   macro avg       0.81      0.79      0.80       179\n",
      "weighted avg       0.81      0.81      0.81       179\n",
      "\n"
     ]
    }
   ],
   "source": [
    "param_grid = {\n",
    "    \"clf__n_estimators\": [50, 100],\n",
    "    \"clf__max_depth\": [5, 10, None]\n",
    "}\n",
    "pipe_rf = Pipeline([(\"pre\", preprocessor), (\"clf\", RandomForestClassifier())])\n",
    "grid = GridSearchCV(pipe_rf, param_grid, cv=5, scoring=\"f1\")\n",
    "grid.fit(X_train, y_train)\n",
    "print(\"\\nBest RandomForest Params:\", grid.best_params_)\n",
    "print(classification_report(y_test, grid.predict(X_test)))"
   ]
  },
  {
   "cell_type": "code",
   "execution_count": 11,
   "id": "3cd7e7fb",
   "metadata": {},
   "outputs": [
    {
     "name": "stdout",
     "output_type": "stream",
     "text": [
      "\n",
      "Best SVM Params: {'clf__kernel': 'rbf', 'clf__gamma': 'scale', 'clf__C': np.float64(0.1)}\n",
      "              precision    recall  f1-score   support\n",
      "\n",
      "           0       0.82      0.87      0.84       105\n",
      "           1       0.79      0.73      0.76        74\n",
      "\n",
      "    accuracy                           0.81       179\n",
      "   macro avg       0.81      0.80      0.80       179\n",
      "weighted avg       0.81      0.81      0.81       179\n",
      "\n"
     ]
    }
   ],
   "source": [
    "param_dist = {\n",
    "    \"clf__C\": np.logspace(-3, 2, 6),\n",
    "    \"clf__kernel\": [\"linear\", \"rbf\", \"poly\"],\n",
    "    \"clf__gamma\": [\"scale\", \"auto\"]\n",
    "}\n",
    "pipe_svm = Pipeline([(\"pre\", preprocessor), (\"clf\", SVC())])\n",
    "rand = RandomizedSearchCV(pipe_svm, param_dist, cv=5, scoring=\"f1\", n_iter=10, random_state=42)\n",
    "rand.fit(X_train, y_train)\n",
    "print(\"\\nBest SVM Params:\", rand.best_params_)\n",
    "print(classification_report(y_test, rand.predict(X_test)))"
   ]
  },
  {
   "cell_type": "code",
   "execution_count": 12,
   "id": "511fc663",
   "metadata": {},
   "outputs": [
    {
     "name": "stdout",
     "output_type": "stream",
     "text": [
      "\n",
      "Clustering:\n"
     ]
    }
   ],
   "source": [
    "print(\"\\nClustering:\")\n",
    "\n",
    "X_cluster = preprocessor.fit_transform(X)"
   ]
  },
  {
   "cell_type": "code",
   "execution_count": 13,
   "id": "ff344949",
   "metadata": {},
   "outputs": [
    {
     "name": "stdout",
     "output_type": "stream",
     "text": [
      "KMeans clustering completed.\n"
     ]
    }
   ],
   "source": [
    "kmeans = KMeans(n_clusters=2, random_state=42)\n",
    "labels_kmeans = kmeans.fit_predict(X_cluster)\n",
    "print(\"KMeans clustering completed.\")"
   ]
  },
  {
   "cell_type": "code",
   "execution_count": 14,
   "id": "c8d3db79",
   "metadata": {},
   "outputs": [
    {
     "data": {
      "image/png": "[encoded data removed]",
      "text/plain": [
       "<Figure size 1000x400 with 1 Axes>"
      ]
     },
     "metadata": {},
     "output_type": "display_data"
    }
   ],
   "source": [
    "linkage_matrix = linkage(X_cluster[:100], method='ward')\n",
    "plt.figure(figsize=(10, 4))\n",
    "dendrogram(linkage_matrix)\n",
    "plt.title(\"Hierarchical Clustering Dendrogram\")\n",
    "plt.show()"
   ]
  },
  {
   "cell_type": "code",
   "execution_count": 15,
   "id": "39c93c2a",
   "metadata": {},
   "outputs": [
    {
     "name": "stdout",
     "output_type": "stream",
     "text": [
      "DBSCAN clustering completed.\n"
     ]
    }
   ],
   "source": [
    "dbscan = DBSCAN(eps=1.5, min_samples=5)\n",
    "labels_dbscan = dbscan.fit_predict(X_cluster)\n",
    "print(\"DBSCAN clustering completed.\")"
   ]
  },
  {
   "cell_type": "code",
   "execution_count": 16,
   "id": "fd93a5b4",
   "metadata": {},
   "outputs": [
    {
     "name": "stdout",
     "output_type": "stream",
     "text": [
      "Gaussian Mixture Model clustering completed.\n"
     ]
    }
   ],
   "source": [
    "gmm = GaussianMixture(n_components=2, random_state=42)\n",
    "labels_gmm = gmm.fit_predict(X_cluster)\n",
    "print(\"Gaussian Mixture Model clustering completed.\")"
   ]
  }
 ],
 "metadata": {
  "kernelspec": {
   "display_name": ".venv",
   "language": "python",
   "name": "python3"
  },
  "language_info": {
   "codemirror_mode": {
    "name": "ipython",
    "version": 3
   },
   "file_extension": ".py",
   "mimetype": "text/x-python",
   "name": "python",
   "nbconvert_exporter": "python",
   "pygments_lexer": "ipython3",
   "version": "3.10.0"
  }
 },
 "nbformat": 4,
 "nbformat_minor": 5
}
